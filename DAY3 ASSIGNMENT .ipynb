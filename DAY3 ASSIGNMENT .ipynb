{
 "cells": [
  {
   "cell_type": "code",
   "execution_count": 1,
   "id": "929cd447-39a3-414d-b927-40e0497ed3ac",
   "metadata": {},
   "outputs": [
    {
     "name": "stdout",
     "output_type": "stream",
     "text": [
      "0\n",
      "1\n",
      "2\n",
      "4\n",
      "5\n"
     ]
    }
   ],
   "source": [
    "for num in range(7):\n",
    "    if num == 3 or num == 6:\n",
    "        continue\n",
    "    print(num)"
   ]
  },
  {
   "cell_type": "code",
   "execution_count": 2,
   "id": "393162c2-b808-48b6-bf71-2501e443241f",
   "metadata": {},
   "outputs": [
    {
     "name": "stdout",
     "output_type": "stream",
     "text": [
      "[0, 1, 1, 2, 3, 5, 8, 13, 21, 34, 55]\n"
     ]
    }
   ],
   "source": [
    "def fibonacci(n):\n",
    "    if n <= 0:\n",
    "        return []\n",
    "    elif n == 1:\n",
    "        return [0]\n",
    "    else:\n",
    "        fib_series = [0, 1]\n",
    "        while fib_series[-1] < n:\n",
    "            next_fib = fib_series[-1] + fib_series[-2]\n",
    "            fib_series.append(next_fib)\n",
    "        return fib_series\n",
    "\n",
    "print(fibonacci(50))"
   ]
  },
  {
   "cell_type": "code",
   "execution_count": 3,
   "id": "946520bc-9f60-421c-bbf8-52c40b73d7dd",
   "metadata": {},
   "outputs": [
    {
     "name": "stdout",
     "output_type": "stream",
     "text": [
      "1\n",
      "2\n",
      "Fizz\n",
      "4\n",
      "Buzz\n",
      "Fizz\n",
      "7\n",
      "8\n",
      "Fizz\n",
      "Buzz\n",
      "11\n",
      "Fizz\n",
      "13\n",
      "14\n",
      "FizzBuzz\n",
      "16\n",
      "17\n",
      "Fizz\n",
      "19\n",
      "Buzz\n",
      "Fizz\n",
      "22\n",
      "23\n",
      "Fizz\n",
      "Buzz\n",
      "26\n",
      "Fizz\n",
      "28\n",
      "29\n",
      "FizzBuzz\n",
      "31\n",
      "32\n",
      "Fizz\n",
      "34\n",
      "Buzz\n",
      "Fizz\n",
      "37\n",
      "38\n",
      "Fizz\n",
      "Buzz\n",
      "41\n",
      "Fizz\n",
      "43\n",
      "44\n",
      "FizzBuzz\n",
      "46\n",
      "47\n",
      "Fizz\n",
      "49\n",
      "Buzz\n"
     ]
    }
   ],
   "source": [
    "for num in range(1, 51):\n",
    "    if num % 15 == 0:\n",
    "        print(\"FizzBuzz\")\n",
    "    elif num % 3 == 0:\n",
    "        print(\"Fizz\")\n",
    "    elif num % 5 == 0:\n",
    "        print(\"Buzz\")\n",
    "    else:\n",
    "        print(num)"
   ]
  },
  {
   "cell_type": "code",
   "execution_count": 4,
   "id": "ec12e3c6-06c0-4f09-830a-2c47363edc57",
   "metadata": {},
   "outputs": [
    {
     "name": "stdin",
     "output_type": "stream",
     "text": [
      "Enter a character:  HGUIRROEIU\n"
     ]
    },
    {
     "name": "stdout",
     "output_type": "stream",
     "text": [
      "HGUIRROEIU is a consonant\n"
     ]
    }
   ],
   "source": [
    "def vowel_or_consonant(char):\n",
    "    vowels = \"aeiouAEIOU\"\n",
    "    if char in vowels:\n",
    "        print(char, \"is a vowel\")\n",
    "    else:\n",
    "        print(char, \"is a consonant\")\n",
    "\n",
    "char = input(\"Enter a character: \")\n",
    "vowel_or_consonant(char)"
   ]
  },
  {
   "cell_type": "code",
   "execution_count": 6,
   "id": "31740169-f21e-4f50-ad01-edddc9f9d25f",
   "metadata": {},
   "outputs": [
    {
     "name": "stdin",
     "output_type": "stream",
     "text": [
      "Enter a number (0 to finish):  45\n",
      "Enter a number (0 to finish):  4\n",
      "Enter a number (0 to finish):  56\n",
      "Enter a number (0 to finish):  0\n"
     ]
    },
    {
     "name": "stdout",
     "output_type": "stream",
     "text": [
      "Sum: 105\n",
      "Average: 35.0\n"
     ]
    }
   ],
   "source": [
    "sum = 0\n",
    "count = 0\n",
    "while True:\n",
    "    num = int(input(\"Enter a number (0 to finish): \"))\n",
    "    if num == 0:\n",
    "        break\n",
    "    sum += num\n",
    "    count += 1\n",
    "\n",
    "if count > 0:\n",
    "    average = sum / count\n",
    "    print(\"Sum:\", sum)\n",
    "    print(\"Average:\", average)\n",
    "else:\n",
    "    print(\"No numbers entered.\")"
   ]
  },
  {
   "cell_type": "code",
   "execution_count": 7,
   "id": "6abf89a7-9997-4a1f-b2be-4a32c70a84da",
   "metadata": {},
   "outputs": [
    {
     "name": "stdin",
     "output_type": "stream",
     "text": [
      "Enter a number:  5\n"
     ]
    },
    {
     "name": "stdout",
     "output_type": "stream",
     "text": [
      "5 x 1 = 5\n",
      "5 x 2 = 10\n",
      "5 x 3 = 15\n",
      "5 x 4 = 20\n",
      "5 x 5 = 25\n",
      "5 x 6 = 30\n",
      "5 x 7 = 35\n",
      "5 x 8 = 40\n",
      "5 x 9 = 45\n",
      "5 x 10 = 50\n"
     ]
    }
   ],
   "source": [
    "num = int(input(\"Enter a number: \"))\n",
    "for i in range(1, 11):\n",
    "    print(num, \"x\", i, \"=\", num * i)"
   ]
  },
  {
   "cell_type": "code",
   "execution_count": 8,
   "id": "340060c5-5110-4d51-b5d3-02cb2a59cdb1",
   "metadata": {},
   "outputs": [
    {
     "name": "stdout",
     "output_type": "stream",
     "text": [
      "Sum of the series: 874.0\n"
     ]
    }
   ],
   "source": [
    "import math\n",
    "\n",
    "def series_sum(n):\n",
    "    sum = 0\n",
    "    for i in range(1, n + 1):\n",
    "        term = math.factorial(i) / i\n",
    "        sum += term\n",
    "    return sum\n",
    "\n",
    "n = 7\n",
    "result = series_sum(n)\n",
    "print(\"Sum of the series:\", result)"
   ]
  },
  {
   "cell_type": "code",
   "execution_count": 10,
   "id": "eb3468ad-02d9-4f83-88bc-6779a05c60de",
   "metadata": {},
   "outputs": [
    {
     "name": "stdin",
     "output_type": "stream",
     "text": [
      "Enter marks in A:  56\n",
      "Enter marks in B:  4\n"
     ]
    },
    {
     "name": "stdout",
     "output_type": "stream",
     "text": [
      "Failed\n"
     ]
    }
   ],
   "source": [
    "def check_qualification(a_marks, b_marks):\n",
    "    if a_marks >= 55 and b_marks >= 45:\n",
    "        return \"Qualified\"\n",
    "    elif a_marks >= 55 and b_marks >= 55:\n",
    "        return \"Qualified\"\n",
    "    elif a_marks >= 65 and b_marks < 45:\n",
    "        return \"Reappear in B\"\n",
    "    else:\n",
    "        return \"Failed\"\n",
    "\n",
    "a_marks = int(input(\"Enter marks in A: \"))\n",
    "b_marks = int(input(\"Enter marks in B: \"))\n",
    "\n",
    "result = check_qualification(a_marks, b_marks)\n",
    "print(result)"
   ]
  },
  {
   "cell_type": "code",
   "execution_count": null,
   "id": "48c3b55e-a458-49d6-9909-2a95cf5ff69e",
   "metadata": {},
   "outputs": [],
   "source": []
  }
 ],
 "metadata": {
  "kernelspec": {
   "display_name": "Python 3 (ipykernel)",
   "language": "python",
   "name": "python3"
  },
  "language_info": {
   "codemirror_mode": {
    "name": "ipython",
    "version": 3
   },
   "file_extension": ".py",
   "mimetype": "text/x-python",
   "name": "python",
   "nbconvert_exporter": "python",
   "pygments_lexer": "ipython3",
   "version": "3.11.7"
  }
 },
 "nbformat": 4,
 "nbformat_minor": 5
}
