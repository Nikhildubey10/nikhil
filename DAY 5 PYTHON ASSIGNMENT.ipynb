{
 "cells": [
  {
   "cell_type": "code",
   "execution_count": 5,
   "id": "80ac5652-a6f7-46c3-9821-9bab9d5dd894",
   "metadata": {},
   "outputs": [
    {
     "name": "stdout",
     "output_type": "stream",
     "text": [
      "[2, 2, 1]\n"
     ]
    }
   ],
   "source": [
    "def find_correct(word_dict):\n",
    "    correct = 0\n",
    "    almost_correct = 0\n",
    "    wrong = 0\n",
    "    for correct_spelling, contestant_spelling in word_dict.items():\n",
    "        if correct_spelling == contestant_spelling:\n",
    "            correct += 1\n",
    "        elif len(correct_spelling) == len(contestant_spelling) and sum(c != g for c, g in zip(correct_spelling, contestant_spelling)) <= 2:\n",
    "            almost_correct += 1\n",
    "        else:\n",
    "            wrong += 1\n",
    "    return [correct, almost_correct, wrong]\n",
    "word_dict = {\"THEIR\": \"THEIR\", \"BUSINESS\": \"BISINESS\", \"WINDOWS\": \"WINDMILL\", \"WERE\": \"WEAR\", \"SAMPLE\": \"SAMPLE\"}\n",
    "result = find_correct(word_dict)\n",
    "print(result)  # Output: 1  [2, 2, 1]"
   ]
  },
  {
   "cell_type": "code",
   "execution_count": 6,
   "id": "20e92747-f244-45e0-bf8d-aa47f42fadd5",
   "metadata": {},
   "outputs": [
    {
     "name": "stdout",
     "output_type": "stream",
     "text": [
      "Pediatrics\n"
     ]
    }
   ],
   "source": [
    "def max_visited_speciality(patient_medical_speciality_list, medical_speciality):\n",
    "   \n",
    "    speciality_count = {}\n",
    "    for i in range(0, len(patient_medical_speciality_list), 2):\n",
    "        speciality = patient_medical_speciality_list[i + 1]\n",
    "        speciality_count[speciality] = speciality_count.get(speciality, 0) + 1\n",
    "\n",
    "    max_count = 0\n",
    "    max_speciality = None\n",
    "    for speciality, count in speciality_count.items():\n",
    "        if count > max_count:\n",
    "            max_count = count\n",
    "            max_speciality = speciality\n",
    "\n",
    "    return medical_speciality[max_speciality]\n",
    "\n",
    "# Example usage:\n",
    "patient_data = [101, \"P\", 102, \"O\", 302, \"P\", 305, \"P\"]\n",
    "specialities = {\"P\": \"Pediatrics\", \"O\": \"Orthopedics\", \"E\": \"ENT\"}\n",
    "result = max_visited_speciality(patient_data, specialities)\n",
    "print(result)  # Output: Pediatrics"
   ]
  },
  {
   "cell_type": "code",
   "execution_count": 7,
   "id": "be0626b3-e591-45b2-b551-d084a180142f",
   "metadata": {},
   "outputs": [
    {
     "name": "stdout",
     "output_type": "stream",
     "text": [
      "[[166, 300, 812], [2818, 4974, 9150]]\n"
     ]
    }
   ],
   "source": [
    "def matrix_multiplication(m1, m2):\n",
    "   \n",
    "\n",
    "    if len(m1[0]) != len(m2):\n",
    "        raise ValueError(\"Number of columns in the first matrix must equal the number of rows in the second matrix\")\n",
    "\n",
    "    result = [[0 for _ in range(len(m2[0]))] for _ in range(len(m1))]\n",
    "\n",
    "    for i in range(len(m1)):\n",
    "        for j in range(len(m2[0])):\n",
    "            for k in range(len(m2)):\n",
    "                result[i][j] += m1[i][k] * m2[k][j]\n",
    "\n",
    "    return result\n",
    "\n",
    "# Example usage:\n",
    "m1 = [[2, 3, 6], [34, 56, 44]]\n",
    "m2 = [[23, 45, 7], [34, 56, 90], [3, 7, 88]]\n",
    "result = matrix_multiplication(m1, m2)\n",
    "print(result)"
   ]
  },
  {
   "cell_type": "code",
   "execution_count": 8,
   "id": "29011788-33c9-46f6-af12-7a5d750f0063",
   "metadata": {},
   "outputs": [
    {
     "name": "stdout",
     "output_type": "stream",
     "text": [
      "I love Python\n"
     ]
    }
   ],
   "source": [
    "def sms_encoding(sentence):\n",
    "   \n",
    "    words = sentence.split()\n",
    "    encoded_words = []\n",
    "\n",
    "    for word in words:\n",
    "        if all(c in \"AEIOU\" for c in word):  # If the word contains only vowels\n",
    "            encoded_words.append(word)\n",
    "        else:\n",
    "            encoded_word = \"\".join(c for c in word if c not in \"AEIOU\")  # Keep only consonants\n",
    "            encoded_words.append(encoded_word)\n",
    "\n",
    "    return \" \".join(encoded_words)\n",
    "\n",
    "# Example usage:\n",
    "sentence = \"I love Python\"\n",
    "encoded_sentence = sms_encoding(sentence)\n",
    "print(encoded_sentence)  # Output: I Iv Pythn"
   ]
  },
  {
   "cell_type": "code",
   "execution_count": 9,
   "id": "c1fb0933-cd2a-4b34-bdfe-a3944744a1d5",
   "metadata": {},
   "outputs": [
    {
     "name": "stdout",
     "output_type": "stream",
     "text": [
      "like 3\n"
     ]
    }
   ],
   "source": [
    "def max_frequency_word(text):\n",
    "    words = text.lower().split()\n",
    "    word_count = {}\n",
    "    for word in words:\n",
    "        word_count[word] = word_count.get(word, 0) + 1\n",
    "    max_freq = 0\n",
    "    max_length = 0\n",
    "    most_frequent_word = None\n",
    "    for word, freq in word_count.items():\n",
    "        if freq > max_freq or (freq == max_freq and len(word) > max_length):\n",
    "            max_freq = freq\n",
    "            max_length = len(word)\n",
    "            most_frequent_word = word\n",
    "    return f\"{most_frequent_word} {max_freq}\"\n",
    "# Example usage:\n",
    "text = \"Work like you do not need money love like you have never been hurt and dance like no one is watching\"\n",
    "result = max_frequency_word(text)\n",
    "print(result)  # Output: like 3"
   ]
  },
  {
   "cell_type": "code",
   "execution_count": null,
   "id": "4d4d6842-a943-422e-bb4c-22f91644aaf6",
   "metadata": {},
   "outputs": [],
   "source": []
  }
 ],
 "metadata": {
  "kernelspec": {
   "display_name": "Python 3 (ipykernel)",
   "language": "python",
   "name": "python3"
  },
  "language_info": {
   "codemirror_mode": {
    "name": "ipython",
    "version": 3
   },
   "file_extension": ".py",
   "mimetype": "text/x-python",
   "name": "python",
   "nbconvert_exporter": "python",
   "pygments_lexer": "ipython3",
   "version": "3.11.7"
  }
 },
 "nbformat": 4,
 "nbformat_minor": 5
}
